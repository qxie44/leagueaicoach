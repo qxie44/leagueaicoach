{
 "cells": [
  {
   "cell_type": "code",
   "execution_count": null,
   "id": "84080fae",
   "metadata": {},
   "outputs": [
    {
     "name": "stdout",
     "output_type": "stream",
     "text": [
      "{'puuid': '4WU60VKd11pKuuSBe2lnGekDpuOY3b_uzQIGNzS6uuo7ymRmmNlfZ7DIAYSfhkUmlqOkE1jbfxPJRQ', 'gameName': 'kungpowji', 'tagLine': 'chikn'}\n"
     ]
    }
   ],
   "source": [
    "import requests\n",
    "import time\n",
    "import json\n",
    "\n",
    "API_KEY = \"APIkey\" \n",
    "REGION = \"americas\"  # use 'americas' for NA/LATAM, 'asia' for KR/JP, 'europe' for EU\n",
    "PLAYER_NAME = \"Kungpowji\"\n",
    "TAG_LINE = \"chikn\"\n",
    "\n",
    "# Step 1: Get PUUID\n",
    "account_url = f\"https://{REGION}.api.riotgames.com/riot/account/v1/accounts/by-riot-id/{PLAYER_NAME}/{TAG_LINE}?api_key={API_KEY}\"\n",
    "account_data = requests.get(account_url).json()\n",
    "print(account_data)\n"
   ]
  },
  {
   "cell_type": "code",
   "execution_count": 5,
   "id": "d370b481",
   "metadata": {},
   "outputs": [],
   "source": [
    "\n",
    "puuid = account_data[\"puuid\"]\n",
    "\n",
    "# Step 2: Get match IDs (100 at a time, up to full year)\n",
    "match_url = f\"https://{REGION}.api.riotgames.com/lol/match/v5/matches/by-puuid/{puuid}/ids?start=0&count=100&api_key={API_KEY}\"\n",
    "match_ids = requests.get(match_url).json()\n",
    "\n",
    "# Step 3: Loop over match IDs and get details\n",
    "matches = []\n",
    "for match_id in match_ids:\n",
    "    url = f\"https://{REGION}.api.riotgames.com/lol/match/v5/matches/{match_id}?api_key={API_KEY}\"\n",
    "    data = requests.get(url).json()\n",
    "    matches.append(data)\n",
    "    time.sleep(1.2)  # avoid hitting rate limits\n"
   ]
  },
  {
   "cell_type": "code",
   "execution_count": 6,
   "id": "ab9fb785",
   "metadata": {},
   "outputs": [],
   "source": [
    "with open(\"matches.json\", \"w\") as f:\n",
    "    json.dump(matches, f, indent=2)"
   ]
  }
 ],
 "metadata": {
  "kernelspec": {
   "display_name": "base",
   "language": "python",
   "name": "python3"
  },
  "language_info": {
   "codemirror_mode": {
    "name": "ipython",
    "version": 3
   },
   "file_extension": ".py",
   "mimetype": "text/x-python",
   "name": "python",
   "nbconvert_exporter": "python",
   "pygments_lexer": "ipython3",
   "version": "3.11.7"
  }
 },
 "nbformat": 4,
 "nbformat_minor": 5
}
