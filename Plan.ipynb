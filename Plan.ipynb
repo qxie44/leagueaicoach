{
 "cells": [
  {
   "cell_type": "markdown",
   "id": "5ab9174e",
   "metadata": {},
   "source": [
    "# Requirements\n",
    "- Insights into persistent strengths and weaknesses\n",
    "\n",
    "- Visualizations of player progress over time\n",
    "\n",
    "- Fun, shareable year-end summaries (e.g., most-played champions, biggest improvements, highlight matches)\n",
    "\n",
    "- Social comparisons (e.g., how you stack up against friends or which playstyles complement yours)\n",
    "\n",
    "- Socially shareable moments and insights — creative ways for players to engage with friends on social platforms using their data\n",
    "\n"
   ]
  },
  {
   "cell_type": "markdown",
   "id": "857b6336",
   "metadata": {},
   "source": [
    "# API\n",
    "https://developer.riotgames.com/apis\n",
    "\n",
    "Personal API: https://docs.google.com/document/d/17sw3Pcm2jWo5-3krk3uRthinVwObPEUpUxm1dg-SLtU/edit?tab=t.0 "
   ]
  },
  {
   "cell_type": "markdown",
   "id": "ca943217",
   "metadata": {},
   "source": [
    "# Milestones\n"
   ]
  }
 ],
 "metadata": {
  "language_info": {
   "name": "python"
  }
 },
 "nbformat": 4,
 "nbformat_minor": 5
}
